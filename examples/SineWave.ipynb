{
 "cells": [
  {
   "cell_type": "markdown",
   "metadata": {},
   "source": [
    "# Sine Wave Example\n",
    "\n",
    "For an interactive version of this example, see this [Observable notebook](https://observablehq.com/@dkirkby/boed).\n",
    "\n",
    "This notebook performs similar calculations but with some important differences:\n",
    " - It is python code, not javascript, so significantly faster.\n",
    " - It uses the general-purpose [bayesdesign](https://pypi.org/project/bayesdesign) package,\n",
    "   while the Observable notebook is hardcoded for this sine wave example.\n",
    " - It supports multi-dimensional grids for the parameters, features and designs, limited only by the available memory.\n",
    "\n",
    " To install the latest version of the [bayesdesign](https://pypi.org/project/bayesdesign) package, use:\n",
    " ```\n",
    " pip install bayesdesign\n",
    " ```\n",
    " Note that the python module included with this package uses the shorter name `bed` (for Bayesian Experiment Design)."
   ]
  },
  {
   "cell_type": "code",
   "execution_count": 1,
   "metadata": {},
   "outputs": [],
   "source": [
    "import numpy as np\n",
    "import matplotlib.pyplot as plt"
   ]
  },
  {
   "cell_type": "code",
   "execution_count": 2,
   "metadata": {},
   "outputs": [],
   "source": [
    "from bed.grid import Grid, GridStack\n",
    "from bed.design import ExperimentDesigner"
   ]
  },
  {
   "cell_type": "markdown",
   "metadata": {},
   "source": [
    "Define the experimental design space. A \"design\" in this problem consists of a choice of observation time $t_\\text{obs}$."
   ]
  },
  {
   "cell_type": "code",
   "execution_count": 3,
   "metadata": {},
   "outputs": [],
   "source": [
    "designs = Grid(t_obs=np.linspace(0, 5, 51))"
   ]
  },
  {
   "cell_type": "markdown",
   "metadata": {},
   "source": [
    "Define the data features. The data consists of a measurement $y_\\text{obs}$ at $t_\\text{obs}$."
   ]
  },
  {
   "cell_type": "code",
   "execution_count": 4,
   "metadata": {},
   "outputs": [],
   "source": [
    "features = Grid(y_obs=np.linspace(-1.25, 1.25, 100))"
   ]
  },
  {
   "cell_type": "markdown",
   "metadata": {},
   "source": [
    "Define the parameters:\n",
    " - amplitude $A$\n",
    " - frequency $\\omega$\n",
    " - offset $t_0$\n",
    "\n",
    "for the model $y(t) = A \\sin\\left[ \\omega (t - t_0) \\right]$. In this example, only the frequency is unknown."
   ]
  },
  {
   "cell_type": "code",
   "execution_count": 5,
   "metadata": {},
   "outputs": [],
   "source": [
    "params = Grid(amplitude=1, frequency=np.linspace(0.2, 2.0, 181), offset=0)"
   ]
  },
  {
   "cell_type": "markdown",
   "metadata": {},
   "source": [
    "Tabulate the likelihood $P(y_\\text{obs}\\mid A, \\omega, t_0, t_\\text{obs})$ for all possible designs $t_\\text{obs}$. We assume a Gaussian distribution of measurements with mean $y(t)$ and fixed standard deviation $\\sigma_y$."
   ]
  },
  {
   "cell_type": "code",
   "execution_count": 6,
   "metadata": {},
   "outputs": [],
   "source": [
    "sigma_y=0.1\n",
    "with GridStack(features, designs, params):\n",
    "    y_mean = params.amplitude * np.sin(params.frequency * (designs.t_obs - params.offset))\n",
    "    y_diff = features.y_obs - y_mean\n",
    "    likelihood = np.exp(-0.5 * (y_diff / sigma_y) ** 2)\n",
    "    features.normalize(likelihood)"
   ]
  },
  {
   "cell_type": "markdown",
   "metadata": {},
   "source": [
    "The likelihood is a large array whose size limits how big a problem we can tackle in practice. It is indexed over the parameters, features, and designs."
   ]
  },
  {
   "cell_type": "markdown",
   "metadata": {},
   "source": [
    "Tabulate the prior $P(A,\\omega,t_0)$ which we take to be flat:"
   ]
  },
  {
   "cell_type": "code",
   "execution_count": 7,
   "metadata": {},
   "outputs": [],
   "source": [
    "prior = np.ones(params.shape)\n",
    "params.normalize(prior);"
   ]
  },
  {
   "cell_type": "markdown",
   "metadata": {},
   "source": [
    "Initialize an `ExperimentDesigner` to calculate the EIG for this problem:"
   ]
  },
  {
   "cell_type": "code",
   "execution_count": 8,
   "metadata": {},
   "outputs": [],
   "source": [
    "designer = ExperimentDesigner(params, features, designs, likelihood)"
   ]
  },
  {
   "cell_type": "code",
   "execution_count": 9,
   "metadata": {},
   "outputs": [
    {
     "name": "stdout",
     "output_type": "stream",
     "text": [
      "GRID       designs [51:t_obs]\n",
      "GRID      features [100:y_obs]\n",
      "GRID    parameters [1:amplitude, 181:frequency, 1:offset]\n",
      "ARRAY        prior (1, 181, 1)                0.0 Mb\n",
      "ARRAY   likelihood (100, 51, 1, 181, 1)       7.0 Mb\n",
      "ARRAY    posterior (100, 51, 1, 181, 1)       7.0 Mb\n",
      "ARRAY     marginal (100, 51)                  0.0 Mb\n",
      "ARRAY           IG (100, 51)                  0.0 Mb\n",
      "ARRAY          EIG (51,)                      0.0 Mb\n"
     ]
    }
   ],
   "source": [
    "designer.calculateEIG(prior)\n",
    "designer.describe()"
   ]
  },
  {
   "cell_type": "code",
   "execution_count": 10,
   "metadata": {},
   "outputs": [
    {
     "data": {
      "image/png": "[encoded data removed]",
      "text/plain": [
       "<Figure size 600x400 with 1 Axes>"
      ]
     },
     "metadata": {},
     "output_type": "display_data"
    }
   ],
   "source": [
    "fig, ax = plt.subplots(figsize=(6, 4))\n",
    "ax.plot(designs.t_obs, designer.EIG)\n",
    "ax.set(xlabel='Observation time $t_{obs}$', xlim=designs.extent('t_obs'),\n",
    "       ylabel='Expected Information Gain [bits]', ylim=(0, None))\n",
    "ax.grid();"
   ]
  }
 ],
 "metadata": {
  "kernelspec": {
   "display_name": "desi",
   "language": "python",
   "name": "python3"
  },
  "language_info": {
   "codemirror_mode": {
    "name": "ipython",
    "version": 3
   },
   "file_extension": ".py",
   "mimetype": "text/x-python",
   "name": "python",
   "nbconvert_exporter": "python",
   "pygments_lexer": "ipython3",
   "version": "3.8.16"
  }
 },
 "nbformat": 4,
 "nbformat_minor": 2
}
